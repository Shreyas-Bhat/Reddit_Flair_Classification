{
  "nbformat": 4,
  "nbformat_minor": 0,
  "metadata": {
    "colab": {
      "name": "Attention.ipynb",
      "provenance": [],
      "collapsed_sections": []
    },
    "kernelspec": {
      "name": "python3",
      "display_name": "Python 3"
    },
    "language_info": {
      "name": "python"
    }
  },
  "cells": [
    {
      "cell_type": "code",
      "metadata": {
        "colab": {
          "base_uri": "https://localhost:8080/"
        },
        "id": "ajV87zrAH5QW",
        "outputId": "f603dc69-1a7d-4c7e-b9a3-842c8580ab1d"
      },
      "source": [
        "from google.colab import drive\n",
        "drive.mount('/content/drive')"
      ],
      "execution_count": 37,
      "outputs": [
        {
          "output_type": "stream",
          "text": [
            "Drive already mounted at /content/drive; to attempt to forcibly remount, call drive.mount(\"/content/drive\", force_remount=True).\n"
          ],
          "name": "stdout"
        }
      ]
    },
    {
      "cell_type": "code",
      "metadata": {
        "id": "n35eoOgnH63E"
      },
      "source": [
        "#importing libraries\n",
        "import numpy as np\n",
        "import pandas as pd\n",
        "import os\n",
        "from keras.layers import Dense, Input, LSTM, Embedding, Dropout, Activation, Conv1D, GRU, BatchNormalization\n",
        "from keras.layers import Bidirectional, GlobalMaxPool1D, MaxPooling1D, Add, Flatten\n",
        "from keras.layers import GlobalAveragePooling1D, GlobalMaxPooling1D, concatenate, SpatialDropout1D\n",
        "from keras.models import Model, load_model\n",
        "from keras import initializers, regularizers, constraints, optimizers, layers, callbacks\n",
        "from keras import backend as K\n",
        "from keras.optimizers import Adam\n",
        "from keras.callbacks import ModelCheckpoint, TensorBoard, Callback, EarlyStopping\n",
        "import matplotlib.pyplot as plt\n",
        "import seaborn as sns\n",
        "\n",
        "from keras.preprocessing.text import Tokenizer\n",
        "from keras.preprocessing.sequence import pad_sequences\n",
        "from nltk.stem import WordNetLemmatizer\n",
        "import nltk\n",
        "import re"
      ],
      "execution_count": 38,
      "outputs": []
    },
    {
      "cell_type": "code",
      "metadata": {
        "id": "14ytoCOGH8cE"
      },
      "source": [
        "train = pd.read_csv('/content/drive/MyDrive/reddit/train (1).csv')"
      ],
      "execution_count": 39,
      "outputs": []
    },
    {
      "cell_type": "code",
      "metadata": {
        "colab": {
          "base_uri": "https://localhost:8080/",
          "height": 195
        },
        "id": "tlmU2DipH-DK",
        "outputId": "c43d0f73-c91f-4983-d8a7-e934355c3c60"
      },
      "source": [
        "train.head()"
      ],
      "execution_count": 40,
      "outputs": [
        {
          "output_type": "execute_result",
          "data": {
            "text/html": [
              "<div>\n",
              "<style scoped>\n",
              "    .dataframe tbody tr th:only-of-type {\n",
              "        vertical-align: middle;\n",
              "    }\n",
              "\n",
              "    .dataframe tbody tr th {\n",
              "        vertical-align: top;\n",
              "    }\n",
              "\n",
              "    .dataframe thead th {\n",
              "        text-align: right;\n",
              "    }\n",
              "</style>\n",
              "<table border=\"1\" class=\"dataframe\">\n",
              "  <thead>\n",
              "    <tr style=\"text-align: right;\">\n",
              "      <th></th>\n",
              "      <th>Title</th>\n",
              "      <th>Post</th>\n",
              "      <th>Flair</th>\n",
              "    </tr>\n",
              "  </thead>\n",
              "  <tbody>\n",
              "    <tr>\n",
              "      <th>0</th>\n",
              "      <td>netflix the family has been an amazing watch d...</td>\n",
              "      <td>netflixs new series the family is about a secr...</td>\n",
              "      <td>10</td>\n",
              "    </tr>\n",
              "    <tr>\n",
              "      <th>1</th>\n",
              "      <td>all results are out is iiitm gwalior it branch...</td>\n",
              "      <td>the internet seems to think so average package...</td>\n",
              "      <td>0</td>\n",
              "    </tr>\n",
              "    <tr>\n",
              "      <th>2</th>\n",
              "      <td>which are the things you always buy made in india</td>\n",
              "      <td>you can include the reason for your preference...</td>\n",
              "      <td>0</td>\n",
              "    </tr>\n",
              "    <tr>\n",
              "      <th>3</th>\n",
              "      <td>weekly coders hackers amp all tech related thr...</td>\n",
              "      <td>last week issue all threads every week on frid...</td>\n",
              "      <td>11</td>\n",
              "    </tr>\n",
              "    <tr>\n",
              "      <th>4</th>\n",
              "      <td>what are some good unknown companies to work a...</td>\n",
              "      <td>there are similar posts on other subreddits bu...</td>\n",
              "      <td>0</td>\n",
              "    </tr>\n",
              "  </tbody>\n",
              "</table>\n",
              "</div>"
            ],
            "text/plain": [
              "                                               Title  ... Flair\n",
              "0  netflix the family has been an amazing watch d...  ...    10\n",
              "1  all results are out is iiitm gwalior it branch...  ...     0\n",
              "2  which are the things you always buy made in india  ...     0\n",
              "3  weekly coders hackers amp all tech related thr...  ...    11\n",
              "4  what are some good unknown companies to work a...  ...     0\n",
              "\n",
              "[5 rows x 3 columns]"
            ]
          },
          "metadata": {
            "tags": []
          },
          "execution_count": 40
        }
      ]
    },
    {
      "cell_type": "code",
      "metadata": {
        "colab": {
          "base_uri": "https://localhost:8080/"
        },
        "id": "O8NTkuklH_dl",
        "outputId": "e82799b8-6a1d-4f49-c814-087c21f72223"
      },
      "source": [
        "val = pd.read_csv('/content/drive/MyDrive/reddit/val (1).csv')\n",
        "\n",
        "label_to_id={\"AskIndia\": 0, \"Business/Finance\": 1, \"CAA-NRC\": 2, \"Coronavirus\": 3, \"Demonetization\": 4, \"Entertainment\": 5, \"Food\": 6, \"Non-Political\": 7, \"Photography\": 8, \"Policy/Economy\": 9, \"Politics\": 10, \"Scheduled\": 11, \"Science/Technology\": 12, \"Sports\": 13, \"[R]eddiquette\": 14}\n",
        "id_to_label={v: k for k, v in label_to_id.items()}\n",
        "id_to_label"
      ],
      "execution_count": 41,
      "outputs": [
        {
          "output_type": "execute_result",
          "data": {
            "text/plain": [
              "{0: 'AskIndia',\n",
              " 1: 'Business/Finance',\n",
              " 2: 'CAA-NRC',\n",
              " 3: 'Coronavirus',\n",
              " 4: 'Demonetization',\n",
              " 5: 'Entertainment',\n",
              " 6: 'Food',\n",
              " 7: 'Non-Political',\n",
              " 8: 'Photography',\n",
              " 9: 'Policy/Economy',\n",
              " 10: 'Politics',\n",
              " 11: 'Scheduled',\n",
              " 12: 'Science/Technology',\n",
              " 13: 'Sports',\n",
              " 14: '[R]eddiquette'}"
            ]
          },
          "metadata": {
            "tags": []
          },
          "execution_count": 41
        }
      ]
    },
    {
      "cell_type": "code",
      "metadata": {
        "id": "j7GVjCL4IDC-"
      },
      "source": [
        "flairs=[0,1,2,3,4,5,6,7,8,9,10,11,12,13,14]\n",
        "#flairs = [‘AskIndia’, ‘Business/Finance’, ‘CAA-NRC’, ‘Coronavirus’, ‘Demonetization’, ‘Entertainment’, ‘Food’, ‘Non-Political’, ‘Photography’, ‘Policy/Economy’, ‘Politics’, ‘Scheduled’, ‘Science/Technology’, ‘Sports’, ‘[R]eddiquette’]"
      ],
      "execution_count": 42,
      "outputs": []
    },
    {
      "cell_type": "code",
      "metadata": {
        "id": "2O_U8sYPIG6q"
      },
      "source": [
        "# for flair in id_to_label:\n",
        "#     print (flair,': ' , len(train[train['Flair'] == flair]))"
      ],
      "execution_count": 43,
      "outputs": []
    },
    {
      "cell_type": "code",
      "metadata": {
        "id": "EilpEtOQIIZ9"
      },
      "source": [
        "# for flair in flairs:\n",
        "#     print (flair,': ' , len(val[val['Flair'] == flair]))"
      ],
      "execution_count": 44,
      "outputs": []
    },
    {
      "cell_type": "code",
      "metadata": {
        "colab": {
          "base_uri": "https://localhost:8080/"
        },
        "id": "fEYcNTFKIKq9",
        "outputId": "0a99a38e-6edd-4ced-ca04-4e7006e15abe"
      },
      "source": [
        "#removing nan values\n",
        "empties = ['nan', '[deleted]', '[removed]']\n",
        "for empty in empties:\n",
        "  print(empty, len(train[train['Post'] == empty]))\n",
        "\n",
        "train['Post'] = train['Post'].apply(lambda x: '' if x in empties else x)\n",
        "val['Post'] = val['Post'].apply(lambda x: '' if x in empties else x)\n",
        "\n",
        "empties = ['nan', '[deleted]', '[removed]']\n",
        "for empty in empties:\n",
        "  print(empty, len(train[train['Post'] == empty]))"
      ],
      "execution_count": 45,
      "outputs": [
        {
          "output_type": "stream",
          "text": [
            "nan 0\n",
            "[deleted] 0\n",
            "[removed] 0\n",
            "nan 0\n",
            "[deleted] 0\n",
            "[removed] 0\n"
          ],
          "name": "stdout"
        }
      ]
    },
    {
      "cell_type": "code",
      "metadata": {
        "id": "rynwRcmBIMaa"
      },
      "source": [
        "#merging title and post as they convey the same thing\n",
        "train['Title'] = train['Title'] + ' ' + train['Post']\n",
        "val['Title'] = val['Title'] + ' ' + val['Post']"
      ],
      "execution_count": 46,
      "outputs": []
    },
    {
      "cell_type": "code",
      "metadata": {
        "colab": {
          "base_uri": "https://localhost:8080/"
        },
        "id": "WvHl4V_iIOIT",
        "outputId": "9b2ccd7f-82fb-4989-cde5-7645db8176ba"
      },
      "source": [
        "#removing extra characters, stopwords and lemmatizaing\n",
        "from nltk.corpus import stopwords \n",
        "nltk.download('stopwords')\n",
        "nltk.download('wordnet')\n",
        "stop = set(stopwords.words('english'))\n",
        "def remove_noise(text):\n",
        "\n",
        "    # Step1: Make lowercase\n",
        "    text = text.apply(lambda x: \" \".join(x.lower() for x in str(x).split()))\n",
        "    \n",
        "    # Step2: Remove whitespaces\n",
        "    text = text.apply(lambda x: \" \".join(x.strip() for x in str(x).split()))\n",
        "\n",
        "    # Step3 : Removing words inside brackets like \"[OC]\"\n",
        "    text = text.apply(lambda x: re.sub(r\"\\[.*?\\]\", \"\", x))\n",
        "\n",
        "    # Step4 : Removing everything from the data which is not alphanumeric.\n",
        "    text = text.apply(lambda x: re.sub('[^a-zA-Z0-9\\s]', '', x))\n",
        "\n",
        "    # Step5 : Lemmatization\n",
        "    lm=WordNetLemmatizer()\n",
        "    text = text.apply(lambda x: lm.lemmatize(x))\n",
        "    \n",
        "    # Step6 : Removing Stopwords\n",
        "    text = text.apply(lambda x: \" \".join(x for x in str(x).split() if x not in stop))\n",
        "\n",
        "    # Convert to string\n",
        "    text = text.astype(str)\n",
        "        \n",
        "    return text"
      ],
      "execution_count": 47,
      "outputs": [
        {
          "output_type": "stream",
          "text": [
            "[nltk_data] Downloading package stopwords to /root/nltk_data...\n",
            "[nltk_data]   Package stopwords is already up-to-date!\n",
            "[nltk_data] Downloading package wordnet to /root/nltk_data...\n",
            "[nltk_data]   Package wordnet is already up-to-date!\n"
          ],
          "name": "stdout"
        }
      ]
    },
    {
      "cell_type": "code",
      "metadata": {
        "id": "4jjLVcNQIQeT"
      },
      "source": [
        "train['Title'] = remove_noise(train['Title'])\n",
        "val['Title'] = remove_noise(val['Title'])"
      ],
      "execution_count": 48,
      "outputs": []
    },
    {
      "cell_type": "code",
      "metadata": {
        "id": "PedPKODEISZQ"
      },
      "source": [
        "#tokenizing texts \n",
        "# tokenizer = Tokenizer(lower=True, split=' ')\n",
        "# tokenizer.fit_on_texts(train['Title'].values)\n",
        "# tokenizer.fit_on_texts(val['Title'].values)\n",
        "# sequences = tokenizer.texts_to_sequences(train['Title'].values)\n",
        "# sequences_val = tokenizer.texts_to_sequences(val['Title'].values)\n",
        "import tensorflow as tf\n",
        "from tensorflow.keras.layers.experimental.preprocessing import TextVectorization\n",
        "\n",
        "vectorizer = TextVectorization(max_tokens=20000, output_sequence_length=50)\n",
        "train_ds = tf.data.Dataset.from_tensor_slices(train['Title']).batch(128)\n",
        "val_ds = tf.data.Dataset.from_tensor_slices(val['Title']).batch(128)\n",
        "vectorizer.adapt(train_ds)\n",
        "vectorizer.adapt(val_ds)"
      ],
      "execution_count": 66,
      "outputs": []
    },
    {
      "cell_type": "code",
      "metadata": {
        "id": "fNUb7hPthSsl"
      },
      "source": [
        "#loading pre-trained GloVe embedding \n",
        "!wget http://nlp.stanford.edu/data/glove.6B.zip\n",
        "!unzip -q glove.6B.zip"
      ],
      "execution_count": 50,
      "outputs": []
    },
    {
      "cell_type": "code",
      "metadata": {
        "colab": {
          "base_uri": "https://localhost:8080/"
        },
        "id": "yu94nOE4h8ZJ",
        "outputId": "36502d04-8e31-4f5c-8203-c53b51ff3043"
      },
      "source": [
        "#dict mapping words to their vector representation \n",
        "path_to_glove_file = os.path.join(\n",
        "    os.path.expanduser(\"~\"), \"/content/glove.6B.100d.txt\"\n",
        ")\n",
        "\n",
        "embeddings_index = {}\n",
        "with open(path_to_glove_file) as f:\n",
        "    for line in f:\n",
        "        word, coefs = line.split(maxsplit=1)\n",
        "        coefs = np.fromstring(coefs, \"f\", sep=\" \")\n",
        "        embeddings_index[word] = coefs\n",
        "\n",
        "print(\"Found %s word vectors.\" % len(embeddings_index))"
      ],
      "execution_count": 67,
      "outputs": [
        {
          "output_type": "stream",
          "text": [
            "Found 400000 word vectors.\n"
          ],
          "name": "stdout"
        }
      ]
    },
    {
      "cell_type": "code",
      "metadata": {
        "id": "66rTKnJ9uMrJ"
      },
      "source": [
        "#dict mapping words to their indices \n",
        "voc = vectorizer.get_vocabulary()\n",
        "word_index = dict(zip(voc, range(len(voc))))"
      ],
      "execution_count": 68,
      "outputs": []
    },
    {
      "cell_type": "code",
      "metadata": {
        "colab": {
          "base_uri": "https://localhost:8080/"
        },
        "id": "gYn6QefSt7dk",
        "outputId": "e73642de-de85-4ad5-e2d1-95303cfac87a"
      },
      "source": [
        "#preparing embedding layer \n",
        "num_tokens = len(voc) + 2\n",
        "embedding_dim = 100\n",
        "hits = 0\n",
        "misses = 0\n",
        "\n",
        "# Prepare embedding matrix\n",
        "embedding_matrix = np.zeros((num_tokens, embedding_dim))\n",
        "for word, i in word_index.items():\n",
        "    embedding_vector = embeddings_index.get(word)\n",
        "    if embedding_vector is not None:\n",
        "        # Words not found in embedding index will be all-zeros.\n",
        "        # This includes the representation for \"padding\" and \"OOV\"\n",
        "        embedding_matrix[i] = embedding_vector\n",
        "        hits += 1\n",
        "    else:\n",
        "        misses += 1\n",
        "print(\"Converted %d words (%d misses)\" % (hits, misses))"
      ],
      "execution_count": 69,
      "outputs": [
        {
          "output_type": "stream",
          "text": [
            "Converted 18164 words (1836 misses)\n"
          ],
          "name": "stdout"
        }
      ]
    },
    {
      "cell_type": "code",
      "metadata": {
        "id": "UpjUsgI_uG7n"
      },
      "source": [
        "#loading pre-trained word embedding matrix onto embedding layer\n",
        "from tensorflow.keras.layers import Embedding\n",
        "import keras\n",
        "\n",
        "embedding_layer = Embedding(\n",
        "    num_tokens,\n",
        "    embedding_dim,\n",
        "    embeddings_initializer=keras.initializers.Constant(embedding_matrix),\n",
        "    trainable=False,\n",
        ")"
      ],
      "execution_count": 70,
      "outputs": []
    },
    {
      "cell_type": "code",
      "metadata": {
        "id": "gKxKQtb4IULe"
      },
      "source": [
        "# MAX_LEN = 50\n",
        "# padded_sequences = pad_sequences(sequences, padding='pre',maxlen=MAX_LEN)\n",
        "# padded_sequences_val = pad_sequences(sequences_val,padding='pre',maxlen=MAX_LEN)"
      ],
      "execution_count": 71,
      "outputs": []
    },
    {
      "cell_type": "code",
      "metadata": {
        "id": "2uFXAZe6IWp2"
      },
      "source": [
        "#building a model\n",
        "voc_size = 1000000\n",
        "embedding_vector_features=40\n",
        "import keras.layers as L\n",
        "from keras.models import Model\n",
        "from keras.optimizers import Adam\n"
      ],
      "execution_count": 72,
      "outputs": []
    },
    {
      "cell_type": "code",
      "metadata": {
        "colab": {
          "base_uri": "https://localhost:8080/"
        },
        "id": "4coq96sHxOKP",
        "outputId": "311b4b3a-9759-4266-fc8e-97a103432076"
      },
      "source": [
        "train['Title']"
      ],
      "execution_count": 73,
      "outputs": [
        {
          "output_type": "execute_result",
          "data": {
            "text/plain": [
              "0        netflix family amazing watch think rssvhp fami...\n",
              "1        results iiitm gwalior branch good internet see...\n",
              "2        things always buy made india include reason pr...\n",
              "3        weekly coders hackers amp tech related thread ...\n",
              "4        good unknown companies work india similar post...\n",
              "                               ...                        \n",
              "36542    start trading cryptocurrency india best option...\n",
              "36543    may eat beef peace decided public ban whole sp...\n",
              "36544    legal question metoo fully support metoo movem...\n",
              "36545    andhra university alumni students sub invite j...\n",
              "36546    ways generate passive income askindia need pas...\n",
              "Name: Title, Length: 36547, dtype: object"
            ]
          },
          "metadata": {
            "tags": []
          },
          "execution_count": 73
        }
      ]
    },
    {
      "cell_type": "code",
      "metadata": {
        "id": "2_YkJhFIIYfo"
      },
      "source": [
        "#x_train,y_train,x_test,y_test split\n",
        "train_samples = train['Title']\n",
        "val_samples = val['Title']\n",
        "train_labels = train['Flair']\n",
        "val_labels = val['Flair']\n",
        "#converting list of string data to array of integer indices. the arrays are right-padded \n",
        "x_train = vectorizer(np.array([[str(s)] for s in train_samples])).numpy()\n",
        "x_val = vectorizer(np.array([[str(s)] for s in val_samples])).numpy()\n",
        "\n",
        "y_train = np.array(train_labels)\n",
        "y_val = np.array(val_labels)"
      ],
      "execution_count": 74,
      "outputs": []
    },
    {
      "cell_type": "code",
      "metadata": {
        "id": "2aKrwPoWIxqu"
      },
      "source": [
        "import tensorflow as tf\n",
        "MAX_FEATURES = 1000000\n",
        "EMBED_SIZE = 40\n",
        "RNN_CELL_SIZE = 32\n",
        "MAX_LEN = 50  \n",
        "\n",
        "class Attention(tf.keras.Model):\n",
        "    def __init__(self, units):\n",
        "        super(Attention, self).__init__()\n",
        "        self.W1 = tf.keras.layers.Dense(units)\n",
        "        self.W2 = tf.keras.layers.Dense(units)\n",
        "        self.V = tf.keras.layers.Dense(1)\n",
        "\n",
        "    def call(self, features, hidden):\n",
        "        # we are doing this to perform addition to calculate the score\n",
        "        hidden_with_time_axis = tf.expand_dims(hidden, 1)\n",
        "\n",
        "        # we get 1 at the last axis because we are applying score to self.V\n",
        "        # the shape of the tensor before applying self.V is (batch_size, max_length, units)\n",
        "        score = tf.nn.tanh(\n",
        "            self.W1(features) + self.W2(hidden_with_time_axis))\n",
        "        # attention_weights shape == (batch_size, max_length, 1)\n",
        "        attention_weights = tf.nn.softmax(self.V(score), axis=1)\n",
        "          \n",
        "        # context_vector shape after sum == (batch_size, hidden_size)\n",
        "        context_vector = attention_weights * features\n",
        "        context_vector = tf.reduce_sum(context_vector, axis=1)\n",
        "        return context_vector, attention_weights"
      ],
      "execution_count": null,
      "outputs": []
    },
    {
      "cell_type": "code",
      "metadata": {
        "colab": {
          "base_uri": "https://localhost:8080/"
        },
        "id": "XpYj1OgX0DC3",
        "outputId": "898a5f40-d229-4fee-c820-238db9115a34"
      },
      "source": [
        "from tensorflow.keras.layers import Concatenate, Dense, Input, LSTM, Embedding, Dropout, Activation, GRU, Flatten\n",
        "  \n",
        "import re\n",
        "from nltk.stem import WordNetLemmatizer\n",
        "from nltk.corpus import stopwords\n",
        "  \n",
        "import tensorflow as tf\n",
        "import tensorflow.keras as keras\n",
        "from tensorflow.keras.preprocessing.text import Tokenizer\n",
        "from tensorflow.keras.preprocessing.sequence import pad_sequences\n",
        "from tensorflow.keras.layers import Concatenate, Dense, Input, LSTM, Embedding, Dropout, Activation, GRU, Flatten\n",
        "from tensorflow.keras.layers import Bidirectional, GlobalMaxPool1D\n",
        "from tensorflow.keras.models import Model, Sequential\n",
        "from tensorflow.keras.layers import Convolution1D\n",
        "from tensorflow.keras import initializers, regularizers, constraints, optimizers, layers\n",
        "\n",
        "sequence_input = Input(shape=(MAX_LEN,), dtype=\"int32\")\n",
        "embedded_sequences = Embedding(MAX_FEATURES, EMBED_SIZE)(sequence_input)\n",
        "\n",
        "\n",
        "\n",
        "lstm = Bidirectional(LSTM(RNN_CELL_SIZE, return_sequences = True), name=\"bi_lstm_0\")(embedded_sequences)\n",
        "\n",
        "# Getting our LSTM outputs\n",
        "(lstm, forward_h, forward_c, backward_h, backward_c) = Bidirectional(LSTM(RNN_CELL_SIZE, return_sequences=True, return_state=True), name=\"bi_lstm_1\")(lstm)\n",
        "\n",
        "\n",
        "state_h = Concatenate()([forward_h, backward_h])\n",
        "state_c = Concatenate()([forward_c, backward_c])\n",
        "context_vector, attention_weights = Attention(10)(lstm, state_h)\n",
        "dense1 = Dense(64, activation=\"relu\")(context_vector)\n",
        "dropout = Dropout(0.05)(dense1)\n",
        "dense2 = Dense(32, activation=\"relu\")(dropout)\n",
        "output = Dense(15, activation=\"softmax\")(dropout)\n",
        "model = keras.Model(inputs=sequence_input, outputs=output)\n",
        "# model = Flatten()(model.output)\n",
        "\n",
        "\n",
        "# summarize layers\n",
        "print(model.summary())\n",
        "\n",
        "\n",
        "\n",
        "# keras.utils.plot_model(model, show_shapes=True, dpi=90)\n",
        "\n",
        "\n",
        "\n"
      ],
      "execution_count": 89,
      "outputs": [
        {
          "output_type": "stream",
          "text": [
            "Model: \"model_2\"\n",
            "__________________________________________________________________________________________________\n",
            "Layer (type)                    Output Shape         Param #     Connected to                     \n",
            "==================================================================================================\n",
            "input_3 (InputLayer)            [(None, 50)]         0                                            \n",
            "__________________________________________________________________________________________________\n",
            "embedding_5 (Embedding)         (None, 50, 40)       40000000    input_3[0][0]                    \n",
            "__________________________________________________________________________________________________\n",
            "bi_lstm_0 (Bidirectional)       (None, 50, 64)       18688       embedding_5[0][0]                \n",
            "__________________________________________________________________________________________________\n",
            "bi_lstm_1 (Bidirectional)       [(None, 50, 64), (No 24832       bi_lstm_0[0][0]                  \n",
            "__________________________________________________________________________________________________\n",
            "concatenate_4 (Concatenate)     (None, 64)           0           bi_lstm_1[0][1]                  \n",
            "                                                                 bi_lstm_1[0][3]                  \n",
            "__________________________________________________________________________________________________\n",
            "attention_2 (Attention)         ((None, 64), (None,  1311        bi_lstm_1[0][0]                  \n",
            "                                                                 concatenate_4[0][0]              \n",
            "__________________________________________________________________________________________________\n",
            "dense_13 (Dense)                (None, 64)           4160        attention_2[0][0]                \n",
            "__________________________________________________________________________________________________\n",
            "dropout_2 (Dropout)             (None, 64)           0           dense_13[0][0]                   \n",
            "__________________________________________________________________________________________________\n",
            "dense_15 (Dense)                (None, 15)           975         dropout_2[0][0]                  \n",
            "==================================================================================================\n",
            "Total params: 40,049,966\n",
            "Trainable params: 40,049,966\n",
            "Non-trainable params: 0\n",
            "__________________________________________________________________________________________________\n",
            "None\n"
          ],
          "name": "stdout"
        }
      ]
    },
    {
      "cell_type": "code",
      "metadata": {
        "colab": {
          "base_uri": "https://localhost:8080/"
        },
        "id": "-wEgADzE0tAk",
        "outputId": "e5c4eefa-829c-497f-cf63-08f9bbddec89"
      },
      "source": [
        "print(x_val.shape,y_val.shape)"
      ],
      "execution_count": 90,
      "outputs": [
        {
          "output_type": "stream",
          "text": [
            "(9001, 50) (9001,)\n"
          ],
          "name": "stdout"
        }
      ]
    },
    {
      "cell_type": "code",
      "metadata": {
        "colab": {
          "base_uri": "https://localhost:8080/"
        },
        "id": "y70Olq_z0XkE",
        "outputId": "46cdeb62-973e-4c0d-a129-d30c5a489889"
      },
      "source": [
        "model.summary()"
      ],
      "execution_count": 91,
      "outputs": [
        {
          "output_type": "stream",
          "text": [
            "Model: \"model_2\"\n",
            "__________________________________________________________________________________________________\n",
            "Layer (type)                    Output Shape         Param #     Connected to                     \n",
            "==================================================================================================\n",
            "input_3 (InputLayer)            [(None, 50)]         0                                            \n",
            "__________________________________________________________________________________________________\n",
            "embedding_5 (Embedding)         (None, 50, 40)       40000000    input_3[0][0]                    \n",
            "__________________________________________________________________________________________________\n",
            "bi_lstm_0 (Bidirectional)       (None, 50, 64)       18688       embedding_5[0][0]                \n",
            "__________________________________________________________________________________________________\n",
            "bi_lstm_1 (Bidirectional)       [(None, 50, 64), (No 24832       bi_lstm_0[0][0]                  \n",
            "__________________________________________________________________________________________________\n",
            "concatenate_4 (Concatenate)     (None, 64)           0           bi_lstm_1[0][1]                  \n",
            "                                                                 bi_lstm_1[0][3]                  \n",
            "__________________________________________________________________________________________________\n",
            "attention_2 (Attention)         ((None, 64), (None,  1311        bi_lstm_1[0][0]                  \n",
            "                                                                 concatenate_4[0][0]              \n",
            "__________________________________________________________________________________________________\n",
            "dense_13 (Dense)                (None, 64)           4160        attention_2[0][0]                \n",
            "__________________________________________________________________________________________________\n",
            "dropout_2 (Dropout)             (None, 64)           0           dense_13[0][0]                   \n",
            "__________________________________________________________________________________________________\n",
            "dense_15 (Dense)                (None, 15)           975         dropout_2[0][0]                  \n",
            "==================================================================================================\n",
            "Total params: 40,049,966\n",
            "Trainable params: 40,049,966\n",
            "Non-trainable params: 0\n",
            "__________________________________________________________________________________________________\n"
          ],
          "name": "stdout"
        }
      ]
    },
    {
      "cell_type": "code",
      "metadata": {
        "id": "ZMHglTlmLdhX"
      },
      "source": [
        "model.compile(loss='sparse_categorical_crossentropy',\n",
        "              optimizer='adam', metrics=['accuracy'])\n",
        " "
      ],
      "execution_count": 92,
      "outputs": []
    },
    {
      "cell_type": "code",
      "metadata": {
        "colab": {
          "base_uri": "https://localhost:8080/"
        },
        "id": "_8fhOA3kL95o",
        "outputId": "4d5ab8c8-b988-42c6-8b9f-b7d8d047cdc0"
      },
      "source": [
        "\n",
        "BATCH_SIZE = 1000\n",
        "EPOCHS = 10\n",
        "history = model.fit(x_train,y_train,\n",
        "                    batch_size=BATCH_SIZE,\n",
        "                    epochs=EPOCHS,\n",
        "                    validation_data=(x_val, y_val))"
      ],
      "execution_count": 99,
      "outputs": [
        {
          "output_type": "stream",
          "text": [
            "Epoch 1/10\n",
            "37/37 [==============================] - 44s 1s/step - loss: 0.0426 - accuracy: 0.9869 - val_loss: 4.0820 - val_accuracy: 0.5004\n",
            "Epoch 2/10\n",
            "37/37 [==============================] - 44s 1s/step - loss: 0.0320 - accuracy: 0.9907 - val_loss: 4.1978 - val_accuracy: 0.5042\n",
            "Epoch 3/10\n",
            "37/37 [==============================] - 45s 1s/step - loss: 0.0294 - accuracy: 0.9910 - val_loss: 4.3269 - val_accuracy: 0.5027\n",
            "Epoch 4/10\n",
            "37/37 [==============================] - 45s 1s/step - loss: 0.0287 - accuracy: 0.9909 - val_loss: 4.4052 - val_accuracy: 0.5033\n",
            "Epoch 5/10\n",
            "37/37 [==============================] - 44s 1s/step - loss: 0.0277 - accuracy: 0.9909 - val_loss: 4.4932 - val_accuracy: 0.5038\n",
            "Epoch 6/10\n",
            "37/37 [==============================] - 44s 1s/step - loss: 0.0270 - accuracy: 0.9912 - val_loss: 4.5526 - val_accuracy: 0.5035\n",
            "Epoch 7/10\n",
            "37/37 [==============================] - 45s 1s/step - loss: 0.0262 - accuracy: 0.9913 - val_loss: 4.6259 - val_accuracy: 0.5041\n",
            "Epoch 8/10\n",
            "37/37 [==============================] - 44s 1s/step - loss: 0.0261 - accuracy: 0.9916 - val_loss: 4.6797 - val_accuracy: 0.5036\n",
            "Epoch 9/10\n",
            "37/37 [==============================] - 44s 1s/step - loss: 0.0254 - accuracy: 0.9918 - val_loss: 4.7321 - val_accuracy: 0.5011\n",
            "Epoch 10/10\n",
            "37/37 [==============================] - 44s 1s/step - loss: 0.0252 - accuracy: 0.9915 - val_loss: 4.7947 - val_accuracy: 0.5033\n"
          ],
          "name": "stdout"
        }
      ]
    },
    {
      "cell_type": "code",
      "metadata": {
        "colab": {
          "base_uri": "https://localhost:8080/",
          "height": 281
        },
        "id": "J_PPMW66KIAH",
        "outputId": "878cfa3f-a39b-492b-9fa1-b6ba735314e4"
      },
      "source": [
        "def plot_metrics(history):\n",
        "\n",
        "\n",
        "\n",
        "    metrics = [\n",
        "        \"loss\",\n",
        "\n",
        "\n",
        "        \"accuracy\"\n",
        "        \n",
        "        \n",
        "    ]\n",
        "\n",
        "    for n, metric in  enumerate(metrics):\n",
        "        name = metric.replace(\"_\", \" \").capitalize()\n",
        "        plt.subplot(1, 2, n + 1)\n",
        "        plt.plot(\n",
        "            history.epoch,\n",
        "            history.history[metric],\n",
        "            # color=colors[0],\n",
        "            label=\"Train\",\n",
        "        )\n",
        "        plt.plot(\n",
        "            history.epoch,\n",
        "            history.history[\"val_\" + metric],\n",
        "            # color=colors[1],\n",
        "            linestyle=\"--\",\n",
        "            label=\"Val\",\n",
        "        )\n",
        "        plt.xlabel(\"Epoch\")\n",
        "        plt.ylabel(name)\n",
        "        plt.legend()\n",
        "plot_metrics(history)"
      ],
      "execution_count": 86,
      "outputs": [
        {
          "output_type": "display_data",
          "data": {
            "image/png": "[encoded data removed]",
            "text/plain": [
              "<Figure size 432x288 with 2 Axes>"
            ]
          },
          "metadata": {
            "tags": [],
            "needs_background": "light"
          }
        }
      ]
    },
    {
      "cell_type": "code",
      "metadata": {
        "id": "fNgpRm1MfSZZ"
      },
      "source": [
        "#val_accuracy max = 57"
      ],
      "execution_count": null,
      "outputs": []
    }
  ]
}