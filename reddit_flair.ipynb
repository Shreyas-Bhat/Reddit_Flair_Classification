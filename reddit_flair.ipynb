{
  "nbformat": 4,
  "nbformat_minor": 0,
  "metadata": {
    "colab": {
      "name": "reddit_flair.ipynb",
      "provenance": [],
      "collapsed_sections": []
    },
    "kernelspec": {
      "name": "python3",
      "display_name": "Python 3"
    },
    "language_info": {
      "name": "python"
    },
    "accelerator": "TPU"
  },
  "cells": [
    {
      "cell_type": "code",
      "metadata": {
        "colab": {
          "base_uri": "https://localhost:8080/"
        },
        "id": "XZas1qvzYFro",
        "outputId": "62563906-9cd9-4b89-ddd6-61afca516c25"
      },
      "source": [
        "from google.colab import drive\n",
        "drive.mount('/content/drive')"
      ],
      "execution_count": 1,
      "outputs": [
        {
          "output_type": "stream",
          "text": [
            "Mounted at /content/drive\n"
          ],
          "name": "stdout"
        }
      ]
    },
    {
      "cell_type": "code",
      "metadata": {
        "id": "zQRDj-sHbcYN"
      },
      "source": [
        "#importing libraries\n",
        "import numpy as np\n",
        "import pandas as pd\n",
        "import os\n",
        "from keras.layers import Dense, Input, LSTM, Embedding, Dropout, Activation, Conv1D, GRU, BatchNormalization\n",
        "from keras.layers import Bidirectional, GlobalMaxPool1D, MaxPooling1D, Add, Flatten\n",
        "from keras.layers import GlobalAveragePooling1D, GlobalMaxPooling1D, concatenate, SpatialDropout1D\n",
        "from keras.models import Model, load_model\n",
        "from keras import initializers, regularizers, constraints, optimizers, layers, callbacks\n",
        "from keras import backend as K\n",
        "from keras.optimizers import Adam\n",
        "from keras.callbacks import ModelCheckpoint, TensorBoard, Callback, EarlyStopping\n",
        "import matplotlib.pyplot as plt\n",
        "import seaborn as sns\n",
        "\n",
        "from keras.preprocessing.text import Tokenizer\n",
        "from keras.preprocessing.sequence import pad_sequences\n",
        "from nltk.stem import WordNetLemmatizer\n",
        "import nltk\n",
        "import re"
      ],
      "execution_count": 2,
      "outputs": []
    },
    {
      "cell_type": "code",
      "metadata": {
        "id": "AOOGjD_ncNhp"
      },
      "source": [
        "train = pd.read_csv('/content/drive/MyDrive/reddit/train (1).csv')"
      ],
      "execution_count": 3,
      "outputs": []
    },
    {
      "cell_type": "code",
      "metadata": {
        "colab": {
          "base_uri": "https://localhost:8080/",
          "height": 195
        },
        "id": "-w-4Ylz3dKNG",
        "outputId": "b2788e1a-b5e8-450d-cc17-53f793b15628"
      },
      "source": [
        "train.head()"
      ],
      "execution_count": 4,
      "outputs": [
        {
          "output_type": "execute_result",
          "data": {
            "text/html": [
              "<div>\n",
              "<style scoped>\n",
              "    .dataframe tbody tr th:only-of-type {\n",
              "        vertical-align: middle;\n",
              "    }\n",
              "\n",
              "    .dataframe tbody tr th {\n",
              "        vertical-align: top;\n",
              "    }\n",
              "\n",
              "    .dataframe thead th {\n",
              "        text-align: right;\n",
              "    }\n",
              "</style>\n",
              "<table border=\"1\" class=\"dataframe\">\n",
              "  <thead>\n",
              "    <tr style=\"text-align: right;\">\n",
              "      <th></th>\n",
              "      <th>Title</th>\n",
              "      <th>Post</th>\n",
              "      <th>Flair</th>\n",
              "    </tr>\n",
              "  </thead>\n",
              "  <tbody>\n",
              "    <tr>\n",
              "      <th>0</th>\n",
              "      <td>netflix the family has been an amazing watch d...</td>\n",
              "      <td>netflixs new series the family is about a secr...</td>\n",
              "      <td>10</td>\n",
              "    </tr>\n",
              "    <tr>\n",
              "      <th>1</th>\n",
              "      <td>all results are out is iiitm gwalior it branch...</td>\n",
              "      <td>the internet seems to think so average package...</td>\n",
              "      <td>0</td>\n",
              "    </tr>\n",
              "    <tr>\n",
              "      <th>2</th>\n",
              "      <td>which are the things you always buy made in india</td>\n",
              "      <td>you can include the reason for your preference...</td>\n",
              "      <td>0</td>\n",
              "    </tr>\n",
              "    <tr>\n",
              "      <th>3</th>\n",
              "      <td>weekly coders hackers amp all tech related thr...</td>\n",
              "      <td>last week issue all threads every week on frid...</td>\n",
              "      <td>11</td>\n",
              "    </tr>\n",
              "    <tr>\n",
              "      <th>4</th>\n",
              "      <td>what are some good unknown companies to work a...</td>\n",
              "      <td>there are similar posts on other subreddits bu...</td>\n",
              "      <td>0</td>\n",
              "    </tr>\n",
              "  </tbody>\n",
              "</table>\n",
              "</div>"
            ],
            "text/plain": [
              "                                               Title  ... Flair\n",
              "0  netflix the family has been an amazing watch d...  ...    10\n",
              "1  all results are out is iiitm gwalior it branch...  ...     0\n",
              "2  which are the things you always buy made in india  ...     0\n",
              "3  weekly coders hackers amp all tech related thr...  ...    11\n",
              "4  what are some good unknown companies to work a...  ...     0\n",
              "\n",
              "[5 rows x 3 columns]"
            ]
          },
          "metadata": {
            "tags": []
          },
          "execution_count": 4
        }
      ]
    },
    {
      "cell_type": "code",
      "metadata": {
        "colab": {
          "base_uri": "https://localhost:8080/"
        },
        "id": "7QxHaXeCdPz1",
        "outputId": "f92825e7-d945-415d-f1ea-70ba690a0de8"
      },
      "source": [
        "train['Flair'].value_counts()"
      ],
      "execution_count": 5,
      "outputs": [
        {
          "output_type": "execute_result",
          "data": {
            "text/plain": [
              "0     16616\n",
              "7      8118\n",
              "10     4847\n",
              "14     1517\n",
              "9      1046\n",
              "12      961\n",
              "1       811\n",
              "3       793\n",
              "11      580\n",
              "4       365\n",
              "6       293\n",
              "13      256\n",
              "5       172\n",
              "8        96\n",
              "2        76\n",
              "Name: Flair, dtype: int64"
            ]
          },
          "metadata": {
            "tags": []
          },
          "execution_count": 5
        }
      ]
    },
    {
      "cell_type": "code",
      "metadata": {
        "colab": {
          "base_uri": "https://localhost:8080/"
        },
        "id": "lOqo4fEeerTk",
        "outputId": "4dd35fef-b6dd-47a8-876f-7badb661c178"
      },
      "source": [
        "train['Flair'].max()"
      ],
      "execution_count": 6,
      "outputs": [
        {
          "output_type": "execute_result",
          "data": {
            "text/plain": [
              "14"
            ]
          },
          "metadata": {
            "tags": []
          },
          "execution_count": 6
        }
      ]
    },
    {
      "cell_type": "markdown",
      "metadata": {
        "id": "jEvvdeELTFSU"
      },
      "source": [
        "EDA\n"
      ]
    },
    {
      "cell_type": "code",
      "metadata": {
        "id": "c_XlyLHXfJoZ",
        "colab": {
          "base_uri": "https://localhost:8080/",
          "height": 513
        },
        "outputId": "6f73a356-a8df-47bb-b46c-69ec97dfd3a6"
      },
      "source": [
        "plt.figure(figsize=(20,8))\n",
        "sns.countplot(x = 'Flair', data=train)\n",
        "plt.title(\"Number of Posts of each Flair\")\n",
        "plt.xlabel('Flairs')\n",
        "plt.ylabel(\"Number of Posts\")\n",
        "plt.show()"
      ],
      "execution_count": 7,
      "outputs": [
        {
          "output_type": "display_data",
          "data": {
            "image/png": "[encoded data removed]",
            "text/plain": [
              "<Figure size 1440x576 with 1 Axes>"
            ]
          },
          "metadata": {
            "tags": [],
            "needs_background": "light"
          }
        }
      ]
    },
    {
      "cell_type": "code",
      "metadata": {
        "colab": {
          "base_uri": "https://localhost:8080/"
        },
        "id": "NsdKmG7f99iM",
        "outputId": "bbd02296-410f-40a0-cd68-7f8c74f3367c"
      },
      "source": [
        "import re\n",
        "from nltk.corpus import stopwords \n",
        "nltk.download('stopwords')"
      ],
      "execution_count": 8,
      "outputs": [
        {
          "output_type": "stream",
          "text": [
            "[nltk_data] Downloading package stopwords to /root/nltk_data...\n",
            "[nltk_data]   Unzipping corpora/stopwords.zip.\n"
          ],
          "name": "stdout"
        },
        {
          "output_type": "execute_result",
          "data": {
            "text/plain": [
              "True"
            ]
          },
          "metadata": {
            "tags": []
          },
          "execution_count": 8
        }
      ]
    },
    {
      "cell_type": "code",
      "metadata": {
        "id": "_eX5I8RD_oev"
      },
      "source": [
        "from gensim.models import Word2Vec"
      ],
      "execution_count": 9,
      "outputs": []
    },
    {
      "cell_type": "code",
      "metadata": {
        "colab": {
          "base_uri": "https://localhost:8080/"
        },
        "id": "6egyvVjd_5Hx",
        "outputId": "6340bb4c-4ff9-4c00-e8ce-621ffb1bed64"
      },
      "source": [
        "val = pd.read_csv('/content/drive/MyDrive/reddit/val (1).csv')\n",
        "\n",
        "label_to_id={\"AskIndia\": 0, \"Business/Finance\": 1, \"CAA-NRC\": 2, \"Coronavirus\": 3, \"Demonetization\": 4, \"Entertainment\": 5, \"Food\": 6, \"Non-Political\": 7, \"Photography\": 8, \"Policy/Economy\": 9, \"Politics\": 10, \"Scheduled\": 11, \"Science/Technology\": 12, \"Sports\": 13, \"[R]eddiquette\": 14}\n",
        "id_to_label={v: k for k, v in label_to_id.items()}\n",
        "id_to_label\n"
      ],
      "execution_count": 10,
      "outputs": [
        {
          "output_type": "execute_result",
          "data": {
            "text/plain": [
              "{0: 'AskIndia',\n",
              " 1: 'Business/Finance',\n",
              " 2: 'CAA-NRC',\n",
              " 3: 'Coronavirus',\n",
              " 4: 'Demonetization',\n",
              " 5: 'Entertainment',\n",
              " 6: 'Food',\n",
              " 7: 'Non-Political',\n",
              " 8: 'Photography',\n",
              " 9: 'Policy/Economy',\n",
              " 10: 'Politics',\n",
              " 11: 'Scheduled',\n",
              " 12: 'Science/Technology',\n",
              " 13: 'Sports',\n",
              " 14: '[R]eddiquette'}"
            ]
          },
          "metadata": {
            "tags": []
          },
          "execution_count": 10
        }
      ]
    },
    {
      "cell_type": "code",
      "metadata": {
        "id": "20ViZwpfAcM3"
      },
      "source": [
        "flairs=[0,1,2,3,4,5,6,7,8,9,10,11,12,13,14]\n",
        "#flairs = [‘AskIndia’, ‘Business/Finance’, ‘CAA-NRC’, ‘Coronavirus’, ‘Demonetization’, ‘Entertainment’, ‘Food’, ‘Non-Political’, ‘Photography’, ‘Policy/Economy’, ‘Politics’, ‘Scheduled’, ‘Science/Technology’, ‘Sports’, ‘[R]eddiquette’]"
      ],
      "execution_count": 11,
      "outputs": []
    },
    {
      "cell_type": "code",
      "metadata": {
        "colab": {
          "base_uri": "https://localhost:8080/"
        },
        "id": "0X-46tO3AfBc",
        "outputId": "270fd62b-256f-4254-c968-0ab10bf1cc92"
      },
      "source": [
        "for flair in id_to_label:\n",
        "    print (flair,': ' , len(train[train['Flair'] == flair]))"
      ],
      "execution_count": 12,
      "outputs": [
        {
          "output_type": "stream",
          "text": [
            "0 :  16616\n",
            "1 :  811\n",
            "2 :  76\n",
            "3 :  793\n",
            "4 :  365\n",
            "5 :  172\n",
            "6 :  293\n",
            "7 :  8118\n",
            "8 :  96\n",
            "9 :  1046\n",
            "10 :  4847\n",
            "11 :  580\n",
            "12 :  961\n",
            "13 :  256\n",
            "14 :  1517\n"
          ],
          "name": "stdout"
        }
      ]
    },
    {
      "cell_type": "code",
      "metadata": {
        "colab": {
          "base_uri": "https://localhost:8080/"
        },
        "id": "ejh-fXzrAxuc",
        "outputId": "4d0f6fba-0c22-4636-839d-9fa84e0653ca"
      },
      "source": [
        "for flair in flairs:\n",
        "    print (flair,': ' , len(val[val['Flair'] == flair]))"
      ],
      "execution_count": 13,
      "outputs": [
        {
          "output_type": "stream",
          "text": [
            "0 :  4092\n",
            "1 :  200\n",
            "2 :  19\n",
            "3 :  196\n",
            "4 :  90\n",
            "5 :  42\n",
            "6 :  72\n",
            "7 :  1999\n",
            "8 :  24\n",
            "9 :  257\n",
            "10 :  1194\n",
            "11 :  143\n",
            "12 :  236\n",
            "13 :  63\n",
            "14 :  374\n"
          ],
          "name": "stdout"
        }
      ]
    },
    {
      "cell_type": "code",
      "metadata": {
        "colab": {
          "base_uri": "https://localhost:8080/"
        },
        "id": "ho1u_jQtHn35",
        "outputId": "940e0582-1850-469e-f63b-9bfb6441c620"
      },
      "source": [
        "#removing nan values\n",
        "empties = ['nan', '[deleted]', '[removed]']\n",
        "for empty in empties:\n",
        "  print(empty, len(train[train['Post'] == empty]))\n",
        "\n",
        "train['Post'] = train['Post'].apply(lambda x: '' if x in empties else x)\n",
        "val['Post'] = val['Post'].apply(lambda x: '' if x in empties else x)\n",
        "\n",
        "empties = ['nan', '[deleted]', '[removed]']\n",
        "for empty in empties:\n",
        "  print(empty, len(train[train['Post'] == empty]))"
      ],
      "execution_count": 14,
      "outputs": [
        {
          "output_type": "stream",
          "text": [
            "nan 0\n",
            "[deleted] 0\n",
            "[removed] 0\n",
            "nan 0\n",
            "[deleted] 0\n",
            "[removed] 0\n"
          ],
          "name": "stdout"
        }
      ]
    },
    {
      "cell_type": "code",
      "metadata": {
        "id": "qyxAf7JkGCWj"
      },
      "source": [
        "#merging title and post as they convey the same thing\n",
        "train['Title'] = train['Title'] + ' ' + train['Post']\n",
        "val['Title'] = val['Title'] + ' ' + val['Post']"
      ],
      "execution_count": 15,
      "outputs": []
    },
    {
      "cell_type": "code",
      "metadata": {
        "colab": {
          "base_uri": "https://localhost:8080/"
        },
        "id": "CivF1_CSMco9",
        "outputId": "0c03b6ac-b311-4690-e537-03060ab58d69"
      },
      "source": [
        "#removing extra characters, stopwords and lemmatizaing \n",
        "nltk.download('wordnet')\n",
        "stop = set(stopwords.words('english'))\n",
        "def remove_noise(text):\n",
        "\n",
        "    # Step1: Make lowercase\n",
        "    text = text.apply(lambda x: \" \".join(x.lower() for x in str(x).split()))\n",
        "    \n",
        "    # Step2: Remove whitespaces\n",
        "    text = text.apply(lambda x: \" \".join(x.strip() for x in str(x).split()))\n",
        "\n",
        "    # Step3 : Removing words inside brackets like \"[OC]\"\n",
        "    text = text.apply(lambda x: re.sub(r\"\\[.*?\\]\", \"\", x))\n",
        "\n",
        "    # Step4 : Removing everything from the data which is not alphanumeric.\n",
        "    text = text.apply(lambda x: re.sub('[^a-zA-Z0-9\\s]', '', x))\n",
        "\n",
        "    # Step5 : Lemmatization\n",
        "    lm=WordNetLemmatizer()\n",
        "    text = text.apply(lambda x: lm.lemmatize(x))\n",
        "    \n",
        "    # Step6 : Removing Stopwords\n",
        "    text = text.apply(lambda x: \" \".join(x for x in str(x).split() if x not in stop))\n",
        "\n",
        "    # Convert to string\n",
        "    text = text.astype(str)\n",
        "        \n",
        "    return text"
      ],
      "execution_count": 16,
      "outputs": [
        {
          "output_type": "stream",
          "text": [
            "[nltk_data] Downloading package wordnet to /root/nltk_data...\n",
            "[nltk_data]   Unzipping corpora/wordnet.zip.\n"
          ],
          "name": "stdout"
        }
      ]
    },
    {
      "cell_type": "code",
      "metadata": {
        "id": "CjOaaqL1A7xz"
      },
      "source": [
        "train['Title'] = remove_noise(train['Title'])\n",
        "val['Title'] = remove_noise(val['Title'])"
      ],
      "execution_count": 17,
      "outputs": []
    },
    {
      "cell_type": "code",
      "metadata": {
        "id": "o7s7xRtLBAHw"
      },
      "source": [
        "#tokenizing texts \n",
        "tokenizer = Tokenizer(lower=True, split=' ')\n",
        "tokenizer.fit_on_texts(train['Title'].values)\n",
        "tokenizer.fit_on_texts(val['Title'].values)"
      ],
      "execution_count": 18,
      "outputs": []
    },
    {
      "cell_type": "markdown",
      "metadata": {
        "id": "b3j9UJ5GnBTC"
      },
      "source": [
        ""
      ]
    },
    {
      "cell_type": "code",
      "metadata": {
        "id": "xXcQgJO2TCja"
      },
      "source": [
        "\n",
        "sequences = tokenizer.texts_to_sequences(train['Title'].values)\n",
        "sequences_val = tokenizer.texts_to_sequences(val['Title'].values)"
      ],
      "execution_count": 19,
      "outputs": []
    },
    {
      "cell_type": "code",
      "metadata": {
        "id": "kf5_XW1XX0eQ"
      },
      "source": [
        "# model = Word2Vec(str(sequences), min_count=2)"
      ],
      "execution_count": 20,
      "outputs": []
    },
    {
      "cell_type": "code",
      "metadata": {
        "id": "iugaE8xYAwyw"
      },
      "source": [
        "MAX_LEN = 50\n",
        "padded_sequences = pad_sequences(sequences, padding='pre',maxlen=MAX_LEN)\n",
        "padded_sequences_val = pad_sequences(sequences_val,padding='pre',maxlen=MAX_LEN)"
      ],
      "execution_count": 21,
      "outputs": []
    },
    {
      "cell_type": "code",
      "metadata": {
        "id": "iWk15dOjWiWm",
        "colab": {
          "base_uri": "https://localhost:8080/"
        },
        "outputId": "de32638c-4d84-4519-c33b-daebcd164910"
      },
      "source": [
        "# #building a model\n",
        "voc_size = 1000000\n",
        "from tensorflow.keras.layers import Embedding\n",
        "from tensorflow.keras.preprocessing.sequence import pad_sequences\n",
        "from tensorflow.keras.models import Sequential\n",
        "from tensorflow.keras.preprocessing.text import one_hot\n",
        "from tensorflow.keras.layers import LSTM\n",
        "from tensorflow.keras.layers import Dense, Flatten\n",
        "embedding_vector_features=40\n",
        "model=Sequential()\n",
        "model.add(Embedding(voc_size,embedding_vector_features,input_length=MAX_LEN))\n",
        "model.add(LSTM(100))\n",
        "model.add(Dense(15,activation='sigmoid'))\n",
        "model.add(Flatten())\n",
        "model.compile(loss='binary_crossentropy',optimizer='adam',metrics=['accuracy'])\n",
        "print(model.summary())\n",
        "import keras.layers as L\n",
        "from keras.models import Model\n",
        "from keras.optimizers import Adam\n"
      ],
      "execution_count": 22,
      "outputs": [
        {
          "output_type": "stream",
          "text": [
            "Model: \"sequential\"\n",
            "_________________________________________________________________\n",
            "Layer (type)                 Output Shape              Param #   \n",
            "=================================================================\n",
            "embedding (Embedding)        (None, 50, 40)            40000000  \n",
            "_________________________________________________________________\n",
            "lstm (LSTM)                  (None, 100)               56400     \n",
            "_________________________________________________________________\n",
            "dense (Dense)                (None, 15)                1515      \n",
            "_________________________________________________________________\n",
            "flatten (Flatten)            (None, 15)                0         \n",
            "=================================================================\n",
            "Total params: 40,057,915\n",
            "Trainable params: 40,057,915\n",
            "Non-trainable params: 0\n",
            "_________________________________________________________________\n",
            "None\n"
          ],
          "name": "stdout"
        }
      ]
    },
    {
      "cell_type": "code",
      "metadata": {
        "id": "-lB0lAUlYcWr"
      },
      "source": [
        "#x_train and y_train\n",
        "y = train['Flair']\n",
        "X_final=np.array(padded_sequences)\n",
        "y_final=np.array(y)\n"
      ],
      "execution_count": 23,
      "outputs": []
    },
    {
      "cell_type": "code",
      "metadata": {
        "colab": {
          "base_uri": "https://localhost:8080/"
        },
        "id": "qHJpzkLkaht1",
        "outputId": "a4c7652f-8219-464f-e6de-bfa21d3026e0"
      },
      "source": [
        "print(X_final.shape, y.shape)"
      ],
      "execution_count": 24,
      "outputs": [
        {
          "output_type": "stream",
          "text": [
            "(36547, 50) (36547,)\n"
          ],
          "name": "stdout"
        }
      ]
    },
    {
      "cell_type": "code",
      "metadata": {
        "id": "DL0dXYQuXtMt"
      },
      "source": [
        "#X_test and y_test\n",
        "y_val = val['Flair']\n",
        "X_final_val = np.array(padded_sequences_val)\n",
        "y_final_val = np.array(y_val)\n"
      ],
      "execution_count": 25,
      "outputs": []
    },
    {
      "cell_type": "code",
      "metadata": {
        "id": "nrsb1__N-5F9"
      },
      "source": [
        "model.compile(optimizer='Adam', loss='sparse_categorical_crossentropy', metrics=['accuracy'])"
      ],
      "execution_count": 26,
      "outputs": []
    },
    {
      "cell_type": "code",
      "metadata": {
        "colab": {
          "base_uri": "https://localhost:8080/"
        },
        "id": "zV08muqTXnGu",
        "outputId": "7aa64e83-1c92-4648-c763-178f3cbdca39"
      },
      "source": [
        "model.summary()"
      ],
      "execution_count": 27,
      "outputs": [
        {
          "output_type": "stream",
          "text": [
            "Model: \"sequential\"\n",
            "_________________________________________________________________\n",
            "Layer (type)                 Output Shape              Param #   \n",
            "=================================================================\n",
            "embedding (Embedding)        (None, 50, 40)            40000000  \n",
            "_________________________________________________________________\n",
            "lstm (LSTM)                  (None, 100)               56400     \n",
            "_________________________________________________________________\n",
            "dense (Dense)                (None, 15)                1515      \n",
            "_________________________________________________________________\n",
            "flatten (Flatten)            (None, 15)                0         \n",
            "=================================================================\n",
            "Total params: 40,057,915\n",
            "Trainable params: 40,057,915\n",
            "Non-trainable params: 0\n",
            "_________________________________________________________________\n"
          ],
          "name": "stdout"
        }
      ]
    },
    {
      "cell_type": "code",
      "metadata": {
        "colab": {
          "base_uri": "https://localhost:8080/"
        },
        "id": "Sz-r04gRXnhe",
        "outputId": "7572f0d1-a24f-401b-bb56-160f803a9bc8"
      },
      "source": [
        "model.fit(X_final,y_final,batch_size=1000,epochs=10,verbose=1,shuffle=True,validation_data=(X_final_val, y_final_val))"
      ],
      "execution_count": 28,
      "outputs": [
        {
          "output_type": "stream",
          "text": [
            "Epoch 1/10\n",
            "37/37 [==============================] - 42s 1s/step - loss: 2.1525 - accuracy: 0.4424 - val_loss: 1.7401 - val_accuracy: 0.4546\n",
            "Epoch 2/10\n",
            "37/37 [==============================] - 39s 1s/step - loss: 1.7113 - accuracy: 0.4546 - val_loss: 1.6987 - val_accuracy: 0.4546\n",
            "Epoch 3/10\n",
            "37/37 [==============================] - 40s 1s/step - loss: 1.6954 - accuracy: 0.4546 - val_loss: 1.6938 - val_accuracy: 0.4546\n",
            "Epoch 4/10\n",
            "37/37 [==============================] - 39s 1s/step - loss: 1.6875 - accuracy: 0.4546 - val_loss: 1.6859 - val_accuracy: 0.4546\n",
            "Epoch 5/10\n",
            "37/37 [==============================] - 39s 1s/step - loss: 1.6611 - accuracy: 0.4546 - val_loss: 1.6509 - val_accuracy: 0.4546\n",
            "Epoch 6/10\n",
            "37/37 [==============================] - 39s 1s/step - loss: 1.5728 - accuracy: 0.4546 - val_loss: 1.5678 - val_accuracy: 0.4546\n",
            "Epoch 7/10\n",
            "37/37 [==============================] - 39s 1s/step - loss: 1.4830 - accuracy: 0.4547 - val_loss: 1.5401 - val_accuracy: 0.4555\n",
            "Epoch 8/10\n",
            "37/37 [==============================] - 39s 1s/step - loss: 1.4033 - accuracy: 0.4640 - val_loss: 1.5763 - val_accuracy: 0.4706\n",
            "Epoch 9/10\n",
            "37/37 [==============================] - 39s 1s/step - loss: 1.3051 - accuracy: 0.5472 - val_loss: 1.5142 - val_accuracy: 0.5188\n",
            "Epoch 10/10\n",
            "37/37 [==============================] - 39s 1s/step - loss: 1.2059 - accuracy: 0.5875 - val_loss: 1.5056 - val_accuracy: 0.5125\n"
          ],
          "name": "stdout"
        },
        {
          "output_type": "execute_result",
          "data": {
            "text/plain": [
              "<tensorflow.python.keras.callbacks.History at 0x7fe5f6704a50>"
            ]
          },
          "metadata": {
            "tags": []
          },
          "execution_count": 28
        }
      ]
    },
    {
      "cell_type": "code",
      "metadata": {
        "id": "SMTrl37CYPBz",
        "colab": {
          "base_uri": "https://localhost:8080/",
          "height": 619
        },
        "outputId": "27dc5de4-bee3-4f15-9006-3573337b0d48"
      },
      "source": [
        "#accuracy of 53.11 using unidirectional LSTM and embedding layer\n",
        "BATCH_SIZE = 1000\n",
        "EPOCHS = 10\n",
        "history = model.fit(X_final,y_final,\n",
        "                    batch_size=BATCH_SIZE,\n",
        "                    epochs=EPOCHS,\n",
        "                    validation_data=(X_final_val, y_final_val))\n",
        "def plot_metrics(history):\n",
        "\n",
        "\n",
        "\n",
        "    metrics = [\n",
        "        \"loss\",\n",
        "\n",
        "\n",
        "        \"accuracy\"\n",
        "        \n",
        "        \n",
        "    ]\n",
        "\n",
        "    for n, metric in  enumerate(metrics):\n",
        "        name = metric.replace(\"_\", \" \").capitalize()\n",
        "        plt.subplot(1, 2, n + 1)\n",
        "        plt.plot(\n",
        "            history.epoch,\n",
        "            history.history[metric],\n",
        "            # color=colors[0],\n",
        "            label=\"Train\",\n",
        "        )\n",
        "        plt.plot(\n",
        "            history.epoch,\n",
        "            history.history[\"val_\" + metric],\n",
        "            # color=colors[1],\n",
        "            linestyle=\"--\",\n",
        "            label=\"Val\",\n",
        "        )\n",
        "        plt.xlabel(\"Epoch\")\n",
        "        plt.ylabel(name)\n",
        "        plt.legend()\n",
        "plot_metrics(history)"
      ],
      "execution_count": 30,
      "outputs": [
        {
          "output_type": "stream",
          "text": [
            "Epoch 1/10\n",
            "37/37 [==============================] - 39s 1s/step - loss: 1.0799 - accuracy: 0.6520 - val_loss: 1.5436 - val_accuracy: 0.5202\n",
            "Epoch 2/10\n",
            "37/37 [==============================] - 39s 1s/step - loss: 0.9695 - accuracy: 0.6958 - val_loss: 1.5903 - val_accuracy: 0.5083\n",
            "Epoch 3/10\n",
            "37/37 [==============================] - 38s 1s/step - loss: 0.8719 - accuracy: 0.7373 - val_loss: 1.6690 - val_accuracy: 0.5093\n",
            "Epoch 4/10\n",
            "37/37 [==============================] - 38s 1s/step - loss: 0.7730 - accuracy: 0.7745 - val_loss: 1.7003 - val_accuracy: 0.4956\n",
            "Epoch 5/10\n",
            "37/37 [==============================] - 38s 1s/step - loss: 0.6930 - accuracy: 0.8013 - val_loss: 1.7948 - val_accuracy: 0.4872\n",
            "Epoch 6/10\n",
            "37/37 [==============================] - 38s 1s/step - loss: 0.6181 - accuracy: 0.8249 - val_loss: 1.8654 - val_accuracy: 0.4943\n",
            "Epoch 7/10\n",
            "37/37 [==============================] - 39s 1s/step - loss: 0.5545 - accuracy: 0.8483 - val_loss: 1.9417 - val_accuracy: 0.4801\n",
            "Epoch 8/10\n",
            "37/37 [==============================] - 38s 1s/step - loss: 0.5065 - accuracy: 0.8601 - val_loss: 2.0307 - val_accuracy: 0.4758\n",
            "Epoch 9/10\n",
            "37/37 [==============================] - 39s 1s/step - loss: 0.4676 - accuracy: 0.8707 - val_loss: 2.1153 - val_accuracy: 0.4718\n",
            "Epoch 10/10\n",
            "37/37 [==============================] - 39s 1s/step - loss: 0.4372 - accuracy: 0.8796 - val_loss: 2.1682 - val_accuracy: 0.4636\n"
          ],
          "name": "stdout"
        },
        {
          "output_type": "display_data",
          "data": {
            "image/png": "[encoded data removed]",
            "text/plain": [
              "<Figure size 432x288 with 2 Axes>"
            ]
          },
          "metadata": {
            "tags": [],
            "needs_background": "light"
          }
        }
      ]
    },
    {
      "cell_type": "code",
      "metadata": {
        "id": "X6FGR4P-Tnjt"
      },
      "source": [
        ""
      ],
      "execution_count": null,
      "outputs": []
    }
  ]
}